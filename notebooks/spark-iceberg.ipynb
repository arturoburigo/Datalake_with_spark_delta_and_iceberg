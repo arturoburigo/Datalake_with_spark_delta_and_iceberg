{
 "cells": [
  {
   "cell_type": "markdown",
   "id": "d7d78adf",
   "metadata": {},
   "source": [
    "Antes de executar, selecione o ambiente virtual (.venv) como Kernel do seu jupyter notebook.\n",
    "poetry env activate\n",
    "copiar o retorno, exemplo: & \"C:\\Users\\seu_usuario\\AppData\\Local\\pypoetry\\Cache\\virtualenvs\\spark-iceberg-eM2oaFR9-py3.13\\Scripts\\activate.ps1\"\n",
    "e colar no terminal e rodar, assim irá ativar o ambiente virtual para poder selecionar com o Kernel"
   ]
  },
  {
   "cell_type": "code",
   "execution_count": 1,
   "id": "c922599c",
   "metadata": {},
   "outputs": [],
   "source": [
    "from pyspark.sql import SparkSession "
   ]
  },
  {
   "cell_type": "code",
   "execution_count": null,
   "id": "e7a566fe",
   "metadata": {},
   "outputs": [],
   "source": [
    "# Init Spark session with Iceberg configurations\n",
    "spark = SparkSession.builder \\\n",
    "  .appName(\"IcebergLocalDevelopment\") \\\n",
    "  .config('spark.jars.packages', 'org.apache.iceberg:iceberg-spark-runtime-3.5_2.12:1.6.1') \\\n",
    "  .config(\"spark.sql.extensions\", \"org.apache.iceberg.spark.extensions.IcebergSparkSessionExtensions\") \\\n",
    "  .config(\"spark.sql.catalog.local\", \"org.apache.iceberg.spark.SparkCatalog\") \\\n",
    "  .config(\"spark.sql.catalog.local.type\", \"hadoop\") \\\n",
    "  .config(\"spark.sql.catalog.local.warehouse\", \"dataset_iceberg\") \\\n",
    "  .getOrCreate()"
   ]
  },
  {
   "cell_type": "code",
   "execution_count": null,
   "id": "5566e3ee",
   "metadata": {},
   "outputs": [
    {
     "data": {
      "text/html": [
       "\n",
       "            <div>\n",
       "                <p><b>SparkSession - in-memory</b></p>\n",
       "                \n",
       "        <div>\n",
       "            <p><b>SparkContext</b></p>\n",
       "\n",
       "            <p><a href=\"http://deskluizbezerra.mshome.net:4040\">Spark UI</a></p>\n",
       "\n",
       "            <dl>\n",
       "              <dt>Version</dt>\n",
       "                <dd><code>v3.5.5</code></dd>\n",
       "              <dt>Master</dt>\n",
       "                <dd><code>local[*]</code></dd>\n",
       "              <dt>AppName</dt>\n",
       "                <dd><code>IcebergLocalDevelopment</code></dd>\n",
       "            </dl>\n",
       "        </div>\n",
       "        \n",
       "            </div>\n",
       "        "
      ],
      "text/plain": [
       "<pyspark.sql.session.SparkSession at 0x24a76ac7cb0>"
      ]
     },
     "execution_count": 21,
     "metadata": {},
     "output_type": "execute_result"
    }
   ],
   "source": [
    "# View Spark config \n",
    "spark"
   ]
  },
  {
   "cell_type": "code",
   "execution_count": null,
   "id": "89c72ede",
   "metadata": {},
   "outputs": [
    {
     "data": {
      "text/plain": [
       "DataFrame[]"
      ]
     },
     "execution_count": 15,
     "metadata": {},
     "output_type": "execute_result"
    }
   ],
   "source": [
    "# Create table \n",
    "spark.sql(\"\"\"\n",
    "CREATE TABLE local.livros_iceberg (\n",
    "    id INT,\n",
    "    titulo STRING,\n",
    "    autor STRING,\n",
    "    ano_publicacao INT\n",
    ") USING iceberg\n",
    "\"\"\")"
   ]
  },
  {
   "cell_type": "code",
   "execution_count": null,
   "id": "230233d6",
   "metadata": {},
   "outputs": [
    {
     "data": {
      "text/plain": [
       "DataFrame[]"
      ]
     },
     "execution_count": 16,
     "metadata": {},
     "output_type": "execute_result"
    }
   ],
   "source": [
    "# Insert data into the table\n",
    "spark.sql(\"\"\"\n",
    "INSERT INTO local.livros_iceberg VALUES\n",
    "    (1, '1984', 'George Orwell', 1949),\n",
    "    (2, 'Dom Casmurro', 'Machado de Assis', 1899),\n",
    "    (3, 'O Hobbit', 'J.R.R. Tolkien', 1937)\n",
    "\"\"\")"
   ]
  },
  {
   "cell_type": "code",
   "execution_count": null,
   "id": "22c72edb",
   "metadata": {},
   "outputs": [
    {
     "name": "stdout",
     "output_type": "stream",
     "text": [
      "+---+------------+----------------+--------------+\n",
      "| id|      titulo|           autor|ano_publicacao|\n",
      "+---+------------+----------------+--------------+\n",
      "|  1|        1984|   George Orwell|          1949|\n",
      "|  2|Dom Casmurro|Machado de Assis|          1899|\n",
      "|  3|    O Hobbit|  J.R.R. Tolkien|          1937|\n",
      "+---+------------+----------------+--------------+\n",
      "\n"
     ]
    }
   ],
   "source": [
    "spark.sql(\"SELECT * FROM local.livros_iceberg\").show()"
   ]
  },
  {
   "cell_type": "code",
   "execution_count": null,
   "id": "ef318ce6",
   "metadata": {},
   "outputs": [
    {
     "data": {
      "text/plain": [
       "DataFrame[]"
      ]
     },
     "execution_count": 18,
     "metadata": {},
     "output_type": "execute_result"
    }
   ],
   "source": [
    "# Update data in the table\n",
    "spark.sql(\"\"\"\n",
    "UPDATE local.livros_iceberg\n",
    "SET autor = 'M. de Assis'\n",
    "WHERE id = 2\n",
    "\"\"\")"
   ]
  },
  {
   "cell_type": "code",
   "execution_count": null,
   "id": "b1cab341",
   "metadata": {},
   "outputs": [
    {
     "data": {
      "text/plain": [
       "DataFrame[]"
      ]
     },
     "execution_count": 19,
     "metadata": {},
     "output_type": "execute_result"
    }
   ],
   "source": [
    "# Delete data from the table\n",
    "spark.sql(\"\"\"\n",
    "DELETE FROM local.livros_iceberg\n",
    "WHERE id = 3\n",
    "\"\"\")"
   ]
  },
  {
   "cell_type": "code",
   "execution_count": null,
   "id": "e2320243",
   "metadata": {},
   "outputs": [
    {
     "name": "stdout",
     "output_type": "stream",
     "text": [
      "+---+------------+-------------+--------------+\n",
      "| id|      titulo|        autor|ano_publicacao|\n",
      "+---+------------+-------------+--------------+\n",
      "|  2|Dom Casmurro|  M. de Assis|          1899|\n",
      "|  1|        1984|George Orwell|          1949|\n",
      "+---+------------+-------------+--------------+\n",
      "\n"
     ]
    }
   ],
   "source": [
    "spark.sql(\"SELECT * FROM local.livros_iceberg\").show()"
   ]
  }
 ],
 "metadata": {
  "kernelspec": {
   "display_name": "spark-iceberg-eM2oaFR9-py3.13",
   "language": "python",
   "name": "python3"
  },
  "language_info": {
   "codemirror_mode": {
    "name": "ipython",
    "version": 3
   },
   "file_extension": ".py",
   "mimetype": "text/x-python",
   "name": "python",
   "nbconvert_exporter": "python",
   "pygments_lexer": "ipython3",
   "version": "3.13.3"
  }
 },
 "nbformat": 4,
 "nbformat_minor": 5
}
